{
 "cells": [
  {
   "cell_type": "code",
   "execution_count": 2,
   "id": "12757209",
   "metadata": {},
   "outputs": [],
   "source": [
    "import math\n",
    "from math import comb\n",
    "import numpy as np"
   ]
  },
  {
   "cell_type": "code",
   "execution_count": 3,
   "id": "6ebfdd1c",
   "metadata": {},
   "outputs": [],
   "source": [
    "def count_card_sum_ways():\n",
    "    \"\"\"\n",
    "    Compute the number of ways of obtaining any given sum choosing 10 cards from 4 (4 suits)\n",
    "    and cards numbered 1 - 10. The minimum and maximum sums are:\n",
    "    min_sum = 4*1 + 4*2 + 2*3  = 18\n",
    "    max_sum = 4*10 + 4*9 + 2*8 = 92\n",
    "    Due to replacement. \n",
    "    return -> List: index is the sum with index 0 corresponding to obtaining 18. The value is \n",
    "    all the possible ways of obtaining that sum.\n",
    "    \"\"\"\n",
    "    max_cards = 10\n",
    "    max_sum = 100\n",
    "    \n",
    "    # dp[cards_used][sum] = number of ways\n",
    "    dp = [[0] * (max_sum + 1) for _ in range(max_cards + 1)]\n",
    "    dp[0][0] = 1\n",
    "    \n",
    "    for card_value in range(1, 11):\n",
    "        new_dp = [[0] * (max_sum + 1) for _ in range(max_cards + 1)]\n",
    "        \n",
    "        # Copy existing states\n",
    "        for cards in range(max_cards + 1):\n",
    "            for sum_val in range(max_sum + 1):\n",
    "                new_dp[cards][sum_val] = dp[cards][sum_val]\n",
    "        \n",
    "        # Add states using this card value (up to 4 times)\n",
    "        for use_count in range(1, 5):\n",
    "            for cards in range(max_cards + 1):\n",
    "                for sum_val in range(max_sum + 1):\n",
    "                    if dp[cards][sum_val] > 0 and cards + use_count <= max_cards:\n",
    "                        new_cards = cards + use_count\n",
    "                        new_sum = sum_val + card_value * use_count\n",
    "                        if new_sum <= max_sum:\n",
    "                            ways_to_choose = comb(4, use_count)\n",
    "                            new_dp[new_cards][new_sum] += dp[cards][sum_val] * ways_to_choose\n",
    "        \n",
    "        dp = new_dp\n",
    "    \n",
    "    # Return results for exactly 10 cards, the range is given by\n",
    "    min_sum = 4*1 + 4*2 + 2*3  # 18\n",
    "    max_sum = 4*10 + 4*9 + 2*8  # 92\n",
    "    \n",
    "    return [dp[10][sum_val] for sum_val in range(min_sum, max_sum + 1)]\n",
    "\n",
    "# Get the final array\n",
    "result = count_card_sum_ways()"
   ]
  },
  {
   "cell_type": "code",
   "execution_count": 4,
   "id": "e501e290",
   "metadata": {},
   "outputs": [
    {
     "data": {
      "text/plain": [
       "True"
      ]
     },
     "execution_count": 4,
     "metadata": {},
     "output_type": "execute_result"
    }
   ],
   "source": [
    "final_price = [i for i in range(18, 93)]\n",
    "payoffs = [max(i-55,0) for i in final_price]\n",
    "all_possible_combinations = sum(result)\n",
    "sanity_check = math.comb(40,10) # Total number of ways of choosing 10 cards\n",
    "all_possible_combinations == sanity_check"
   ]
  },
  {
   "cell_type": "code",
   "execution_count": 5,
   "id": "8decf9c3",
   "metadata": {},
   "outputs": [
    {
     "name": "stdout",
     "output_type": "stream",
     "text": [
      "The EV of the game with no knowledge: {ev}\n"
     ]
    }
   ],
   "source": [
    "import numpy as np\n",
    "probs = [j / all_possible_combinations for j in result]\n",
    "ev = np.dot(probs, payoffs)\n",
    "print(\"The EV of the game with no knowledge: {ev}\")"
   ]
  },
  {
   "cell_type": "code",
   "execution_count": 6,
   "id": "aa0950a8",
   "metadata": {},
   "outputs": [],
   "source": [
    "def compute_ev_given_card(given_card):\n",
    "    \"\"\"\n",
    "    Do: count_card_sum_ways given that we know one card. Like in the game setting.\n",
    "    return -> List: index is the sum with index 0 corresponding to obtaining 18. The value is \n",
    "    all the possible ways of obtaining that sum.\n",
    "    \"\"\"\n",
    "    max_cards = 9\n",
    "    max_sum = 92\n",
    "    \n",
    "    dp = [[0] * (max_sum + 1) for _ in range(max_cards + 1)]\n",
    "    dp[0][0] = 1\n",
    "    \n",
    "    for card_value in range(1, 11):\n",
    "        new_dp = [[0] * (max_sum + 1) for _ in range(max_cards + 1)]\n",
    "        \n",
    "        for cards in range(max_cards + 1):\n",
    "            for sum_val in range(max_sum + 1):\n",
    "                new_dp[cards][sum_val] = dp[cards][sum_val]\n",
    "        \n",
    "        max_use = 3 if card_value == given_card else 4\n",
    "        max_use = min(max_use, max_cards)\n",
    "        \n",
    "        for use_count in range(1, max_use + 1):\n",
    "            for cards in range(max_cards + 1):\n",
    "                for sum_val in range(max_sum + 1):\n",
    "                    if dp[cards][sum_val] > 0 and cards + use_count <= max_cards:\n",
    "                        new_cards = cards + use_count\n",
    "                        new_sum = sum_val + card_value * use_count\n",
    "                        if new_sum <= max_sum:\n",
    "                            available = 3 if card_value == given_card else 4\n",
    "                            ways_to_choose = comb(available, use_count)\n",
    "                            new_dp[new_cards][new_sum] += dp[cards][sum_val] * ways_to_choose\n",
    "        \n",
    "        dp = new_dp\n",
    "    \n",
    "    results = {}\n",
    "    for sum_val in range(max_sum + 1):\n",
    "        if dp[9][sum_val] > 0:\n",
    "            final_sum = sum_val + given_card\n",
    "            results[final_sum] = results.get(final_sum, 0) + dp[9][sum_val]\n",
    "    \n",
    "    total_combinations = sum(results.values())\n",
    "    final_price = list(range(min(results.keys()), max(results.keys()) + 1))\n",
    "    counts = [results.get(s, 0) for s in final_price]\n",
    "    probs = [c / total_combinations for c in counts]\n",
    "    payoffs = [max(s - 55, 0) for s in final_price]\n",
    "    \n",
    "    return np.dot(probs, payoffs)"
   ]
  },
  {
   "cell_type": "code",
   "execution_count": 7,
   "id": "a8da34e4",
   "metadata": {},
   "outputs": [],
   "source": [
    "ev_10 = compute_ev_given_card(10)"
   ]
  },
  {
   "cell_type": "code",
   "execution_count": 8,
   "id": "32cdff6c",
   "metadata": {},
   "outputs": [
    {
     "data": {
      "text/plain": [
       "5.04631245493125"
      ]
     },
     "execution_count": 8,
     "metadata": {},
     "output_type": "execute_result"
    }
   ],
   "source": [
    "ev_10"
   ]
  },
  {
   "cell_type": "code",
   "execution_count": 9,
   "id": "6bd5e683",
   "metadata": {},
   "outputs": [
    {
     "name": "stdout",
     "output_type": "stream",
     "text": [
      "The expected value of the game given the card: 1 is 1.5847739933927887\n",
      "The expected value of the game given the card: 2 is 1.8854275399266913\n",
      "The expected value of the game given the card: 3 is 2.208775563040019\n",
      "The expected value of the game given the card: 4 is 2.5533024560039435\n",
      "The expected value of the game given the card: 5 is 2.918090068244867\n",
      "The expected value of the game given the card: 6 is 3.3027054528602515\n",
      "The expected value of the game given the card: 7 is 3.7071486098500976\n",
      "The expected value of the game given the card: 8 is 4.1318524861169434\n",
      "The expected value of the game given the card: 9 is 4.577735232234384\n",
      "The expected value of the game given the card: 10 is 5.04631245493125\n"
     ]
    }
   ],
   "source": [
    "for i in range(1,11):\n",
    "    print(f\"The expected value of the game given the card: {i} is {compute_ev_given_card(i)}\")"
   ]
  },
  {
   "cell_type": "code",
   "execution_count": 15,
   "id": "61334be0",
   "metadata": {},
   "outputs": [
    {
     "data": {
      "text/plain": [
       "True"
      ]
     },
     "execution_count": 15,
     "metadata": {},
     "output_type": "execute_result"
    }
   ],
   "source": [
    "def sanity_check():\n",
    "    t_sum = 0\n",
    "    for i in range(1,11):\n",
    "        t_sum += compute_ev_given_card(i)\n",
    "    t_sum /= 10\n",
    "    return t_sum\n",
    "\n",
    "ev_without_knowledge = sanity_check()\n",
    "ev_without_knowledge - ev < 1e-15"
   ]
  }
 ],
 "metadata": {
  "kernelspec": {
   "display_name": "MLClass",
   "language": "python",
   "name": "python3"
  },
  "language_info": {
   "codemirror_mode": {
    "name": "ipython",
    "version": 3
   },
   "file_extension": ".py",
   "mimetype": "text/x-python",
   "name": "python",
   "nbconvert_exporter": "python",
   "pygments_lexer": "ipython3",
   "version": "3.9.18"
  }
 },
 "nbformat": 4,
 "nbformat_minor": 5
}
