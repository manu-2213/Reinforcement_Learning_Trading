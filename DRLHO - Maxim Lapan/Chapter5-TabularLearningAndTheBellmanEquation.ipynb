{
 "cells": [
  {
   "cell_type": "code",
   "execution_count": 3,
   "metadata": {},
   "outputs": [],
   "source": [
    "import typing as tt\n",
    "import gymnasium as gym\n",
    "from collections import defaultdict, Counter\n",
    "from torch.utils.tensorboard.writer import SummaryWriter"
   ]
  },
  {
   "cell_type": "code",
   "execution_count": 4,
   "metadata": {},
   "outputs": [],
   "source": [
    "ENV_NAME = \"FrozenLake-v1\"\n",
    "#ENV_NAME = \"FrozenLake8x8-v1\"      # uncomment for larger version\n",
    "GAMMA = 0.9\n",
    "TEST_EPISODES = 20"
   ]
  },
  {
   "cell_type": "code",
   "execution_count": 5,
   "metadata": {},
   "outputs": [],
   "source": [
    "State = int\n",
    "Action = int\n",
    "RewardKey = tt.Tuple[State, Action, State]\n",
    "TransitKey = tt.Tuple[State, Action]"
   ]
  },
  {
   "cell_type": "markdown",
   "metadata": {},
   "source": [
    "***Reward table***: Dictionary with the composite key \"source state\" + \"action\" + \"target state\"\n",
    "\n",
    "***Transition table***: Example, if in state 0 we execute action 1 ten times, after three times it leads us \n",
    "to state 4 and after seven times it leads us to state 5. The entry with key (0,1) is a dictionary\n",
    "with contents {4:3, 5:7}\n",
    "\n",
    "***Value table***: A dictionary that maps a state into the calculated value of this state."
   ]
  },
  {
   "cell_type": "code",
   "execution_count": 10,
   "metadata": {},
   "outputs": [],
   "source": [
    "import typing as tt\n",
    "import gymnasium as gym\n",
    "from collections import defaultdict, Counter\n",
    "from torch.utils.tensorboard.writer import SummaryWriter\n",
    "\n",
    "ENV_NAME = \"FrozenLake-v1\"\n",
    "#ENV_NAME = \"FrozenLake8x8-v1\"      # uncomment for larger version\n",
    "GAMMA = 0.9\n",
    "TEST_EPISODES = 20\n",
    "\n",
    "State = int\n",
    "Action = int\n",
    "RewardKey = tt.Tuple[State, Action, State]\n",
    "TransitKey = tt.Tuple[State, Action]\n",
    "\n",
    "\n",
    "class Agent:\n",
    "    def __init__(self):\n",
    "        self.env = gym.make(ENV_NAME)\n",
    "        self.state, _ = self.env.reset()\n",
    "        self.rewards: tt.Dict[RewardKey, float] = defaultdict(float)\n",
    "        self.transits: tt.Dict[TransitKey, Counter] = defaultdict(Counter)\n",
    "        self.values: tt.Dict[State, float] = defaultdict(float)\n",
    "\n",
    "    def play_n_random_steps(self, n: int):\n",
    "        for _ in range(n):\n",
    "            action = self.env.action_space.sample()\n",
    "            new_state, reward, is_done, is_trunc, _ = self.env.step(action)\n",
    "            rw_key = (self.state, action, new_state)\n",
    "            self.rewards[rw_key] = float(reward)\n",
    "            tr_key = (self.state, action)\n",
    "            self.transits[tr_key][new_state] += 1\n",
    "            if is_done or is_trunc:\n",
    "                self.state, _ = self.env.reset()\n",
    "            else:\n",
    "                self.state = new_state\n",
    "\n",
    "    def calc_action_value(self, state: State, action: Action) -> float:\n",
    "        target_counts = self.transits[(state, action)]\n",
    "        total = sum(target_counts.values())\n",
    "        action_value = 0.0\n",
    "        for tgt_state, count in target_counts.items():\n",
    "            rw_key = (state, action, tgt_state)\n",
    "            reward = self.rewards[rw_key]\n",
    "            val = reward + GAMMA * self.values[tgt_state]\n",
    "            action_value += (count / total) * val\n",
    "        return action_value\n",
    "\n",
    "    def select_action(self, state: State) -> Action:\n",
    "        best_action, best_value = None, None\n",
    "        for action in range(self.env.action_space.n):\n",
    "            action_value = self.calc_action_value(state, action)\n",
    "            if best_value is None or best_value < action_value:\n",
    "                best_value = action_value\n",
    "                best_action = action\n",
    "        return best_action\n",
    "\n",
    "    def play_episode(self, env: gym.Env) -> float:\n",
    "        total_reward = 0.0\n",
    "        state, _ = env.reset()\n",
    "        while True:\n",
    "            action = self.select_action(state)\n",
    "            new_state, reward, is_done, is_trunc, _ = env.step(action)\n",
    "            rw_key = (state, action, new_state)\n",
    "            self.rewards[rw_key] = float(reward)\n",
    "            tr_key = (state, action)\n",
    "            self.transits[tr_key][new_state] += 1\n",
    "            total_reward += reward\n",
    "            if is_done or is_trunc:\n",
    "                break\n",
    "            state = new_state\n",
    "        return total_reward\n",
    "\n",
    "    def value_iteration(self):\n",
    "        for state in range(self.env.observation_space.n):\n",
    "            state_values = [\n",
    "                self.calc_action_value(state, action)\n",
    "                for action in range(self.env.action_space.n)\n",
    "            ]\n",
    "            self.values[state] = max(state_values)\n"
   ]
  },
  {
   "cell_type": "code",
   "execution_count": 13,
   "metadata": {},
   "outputs": [
    {
     "name": "stdout",
     "output_type": "stream",
     "text": [
      "16: Best reward updated 0.0 -> 0.2\n",
      "17: Best reward updated 0.2 -> 0.25\n",
      "20: Best reward updated 0.25 -> 0.35\n",
      "23: Best reward updated 0.35 -> 0.4\n",
      "24: Best reward updated 0.4 -> 0.5\n",
      "25: Best reward updated 0.5 -> 0.85\n",
      "68: Best reward updated 0.85 -> 0.9\n",
      "73: Best reward updated 0.9 -> 0.95\n",
      "410: Best reward updated 0.95 -> 1.0\n",
      "Solved in 410 iterations!\n"
     ]
    }
   ],
   "source": [
    "if __name__ == \"__main__\":\n",
    "    test_env = gym.make(ENV_NAME)\n",
    "    agent = Agent()\n",
    "    writer = SummaryWriter(comment=\"-v-iteration\")\n",
    "\n",
    "    iter_no = 0\n",
    "    best_reward = 0.0\n",
    "    while True:\n",
    "        iter_no += 1\n",
    "        agent.play_n_random_steps(100)\n",
    "        agent.value_iteration()\n",
    "\n",
    "        reward = 0.0\n",
    "        for _ in range(TEST_EPISODES):\n",
    "            reward += agent.play_episode(test_env)\n",
    "        reward /= TEST_EPISODES\n",
    "        writer.add_scalar(\"reward\", reward, iter_no)\n",
    "        if reward > best_reward:\n",
    "            print(f\"{iter_no}: Best reward updated {best_reward:.3} -> {reward:.3}\")\n",
    "            best_reward = reward\n",
    "        if reward > 0.99:\n",
    "            print(\"Solved in %d iterations!\" % iter_no)\n",
    "            break\n",
    "    writer.close()"
   ]
  },
  {
   "cell_type": "code",
   "execution_count": null,
   "metadata": {},
   "outputs": [],
   "source": []
  }
 ],
 "metadata": {
  "kernelspec": {
   "display_name": "MLClass",
   "language": "python",
   "name": "python3"
  },
  "language_info": {
   "codemirror_mode": {
    "name": "ipython",
    "version": 3
   },
   "file_extension": ".py",
   "mimetype": "text/x-python",
   "name": "python",
   "nbconvert_exporter": "python",
   "pygments_lexer": "ipython3",
   "version": "3.9.18"
  }
 },
 "nbformat": 4,
 "nbformat_minor": 2
}
